{
 "cells": [
  {
   "cell_type": "markdown",
   "metadata": {},
   "source": [
    "# Task 4 \n",
    "\n",
    "#### https://geekcourses.github.io/ML_SA-Slides/pages/themes/Python_functions/Python_functions.html#/hw_simple_library_system\n"
   ]
  },
  {
   "cell_type": "code",
   "execution_count": 1,
   "metadata": {},
   "outputs": [
    {
     "name": "stdout",
     "output_type": "stream",
     "text": [
      "Moby-Dick has been added to the library.\n",
      "The Master & Margharita has been added to the library.\n",
      "Moby-Dick has been borrowed by Victoria.\n",
      "Book with ISBN: 1111 is not available in the library.\n",
      "ISBN: 1111, Title: Moby-Dick, Author: Herman Melville, Status: borrowed, Borrower: Victoria\n",
      "ISBN: 2222, Title: The Master & Margharita, Author: Mikhail Bulgakov, Status: available, Borrower: None\n"
     ]
    }
   ],
   "source": [
    "\n",
    "# simple library system \n",
    "\n",
    "\n",
    "def add_new_book(isbn, title, author, status='available', borrower=None):\n",
    "  \n",
    "    for book in library:\n",
    "        if book['ISBN'] == isbn:\n",
    "            print(f\"Warning: Book with ISBN {isbn} already exists.\")\n",
    "            return\n",
    "\n",
    "    \n",
    "    library.append({'ISBN': isbn, 'Title': title, 'Author': author, 'Status': status, 'Borrower': borrower})\n",
    "\n",
    "    print(f\"{title} has been added to the library.\")\n",
    "\n",
    "\n",
    "\n",
    "\n",
    "\n",
    "def borrow_book(isbn, borrower):\n",
    "    \n",
    "    for book in library:\n",
    "        if book['ISBN'] == isbn:\n",
    "            if book['Status'] == 'available':\n",
    "                book['Status'] = 'borrowed'\n",
    "                book['Borrower'] = borrower\n",
    "                print(f\"{book['Title']} has been borrowed by {borrower}.\")\n",
    "                break\n",
    "            else:\n",
    "                print(f\"Book with ISBN: {isbn} is not available in the library.\")\n",
    "                return\n",
    "    else:\n",
    "        print(f\"Book with ISBN: {isbn} does not exist in the library.\")\n",
    "\n",
    "\n",
    "\n",
    "\n",
    "def return_book(isbn):\n",
    "    \"\"\" Return a book to the library.\n",
    "\n",
    "    Args:\n",
    "        isbn: The ISBN of the book\n",
    "\n",
    "    Returns:\n",
    "        None\n",
    "    \"\"\"\n",
    "    for book in library:\n",
    "        if book['ISBN'] == isbn:\n",
    "            if book['Status'] == 'borrowed':\n",
    "                book['Status'] = 'available'\n",
    "                book['Borrower'] = None\n",
    "                print(f\"{book['Title']} has been returned to the library.\")\n",
    "                break\n",
    "            else:\n",
    "                print(f\"Book with ISBN: {isbn} was not borrowed.\")\n",
    "                return\n",
    "    else:\n",
    "        print(f\"Book with ISBN: {isbn} does not exist in the library.\")\n",
    "\n",
    "\n",
    "\n",
    "\n",
    "\n",
    "\n",
    "def list_books():\n",
    "    for book in library:\n",
    "        print(f\"ISBN: {book['ISBN']}, Title: {book['Title']}, Author: {book['Author']}, Status: {book['Status']}, Borrower: {book.get('Borrower', 'None')}\")\n",
    "\n",
    "### now we test the functions \n",
    "if __name__==\"__main__\":\n",
    "   \n",
    "    library = []\n",
    "\n",
    "    add_new_book(1111,\"Moby-Dick\", \"Herman Melville\")\n",
    "    add_new_book(2222,\"The Master & Margharita\", \"Mikhail Bulgakov\")\n",
    "    borrow_book(1111, 'Victoria')\n",
    "    borrow_book(1111, 'Geroge')\n",
    "    list_books()\n"
   ]
  }
 ],
 "metadata": {
  "kernelspec": {
   "display_name": "programmingexpert",
   "language": "python",
   "name": "programmingexpert"
  },
  "language_info": {
   "codemirror_mode": {
    "name": "ipython",
    "version": 3
   },
   "file_extension": ".py",
   "mimetype": "text/x-python",
   "name": "python",
   "nbconvert_exporter": "python",
   "pygments_lexer": "ipython3",
   "version": "3.11.7"
  }
 },
 "nbformat": 4,
 "nbformat_minor": 2
}
